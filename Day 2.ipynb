{
 "cells": [
  {
   "cell_type": "code",
   "execution_count": 4,
   "metadata": {},
   "outputs": [
    {
     "data": {
      "text/plain": [
       "[12, 2, 6, 8]"
      ]
     },
     "execution_count": 4,
     "metadata": {},
     "output_type": "execute_result"
    }
   ],
   "source": [
    "my_list = [] # create an empty list\n",
    "\n",
    "len(my_list) # size of your list\n",
    "\n",
    "my_list.extend([4,2,6,8]) # add 4, 2, 6 and 8 in your list\n",
    "\n",
    "len(my_list)\n",
    "\n",
    "my_list[0] = 12 #  change first element\n",
    "\n",
    "my_list"
   ]
  },
  {
   "cell_type": "code",
   "execution_count": 5,
   "metadata": {},
   "outputs": [
    {
     "name": "stdout",
     "output_type": "stream",
     "text": [
      "12\n",
      "2\n",
      "6\n",
      "8\n"
     ]
    }
   ],
   "source": [
    "for element in my_list:\n",
    "    print(element)"
   ]
  },
  {
   "cell_type": "code",
   "execution_count": 13,
   "metadata": {},
   "outputs": [
    {
     "name": "stdout",
     "output_type": "stream",
     "text": [
      "Martin is 42 y.o.\n",
      "Dorianne is 38 y.o.\n",
      "Justine is 14 y.o.\n",
      "Pierre is 25 y.o.\n"
     ]
    }
   ],
   "source": [
    "age_list = [42,38,14,25]\n",
    "name_list = [\"Martin\", \"Dorianne\", \"Justine\", \"Pierre\"]\n",
    "\n",
    "# for i in range(len(age_list)):\n",
    "#     print(f\"{name_list[i]} is {age_list[i]} y.o.\")\n",
    "\n",
    "# for i, age in enumerate(age_list):\n",
    "#     print(f\"{name_list[i]} is {age} y.o.\")\n",
    "\n",
    "for age, name in zip(age_list, name_list):\n",
    "    print(f\"{name} is {age} y.o.\")\n",
    "    \n",
    "# from itertools import product\n",
    "\n",
    "# # Get every possibilty between the two lists\n",
    "# for age, name in product(age_list, name_list):\n",
    "#     print(f\"{name} is {age} y.o.\")\n"
   ]
  },
  {
   "cell_type": "code",
   "execution_count": 15,
   "metadata": {},
   "outputs": [
    {
     "name": "stdout",
     "output_type": "stream",
     "text": [
      "majeur\n"
     ]
    }
   ],
   "source": [
    "age = 22\n",
    "\n",
    "if age > 18:\n",
    "    print(\"majeur\")\n",
    "elif age < 24:\n",
    "    print(\"mineur\")\n",
    "# else:\n",
    "#     print(\"passe ton bac\")"
   ]
  },
  {
   "cell_type": "code",
   "execution_count": 16,
   "metadata": {},
   "outputs": [
    {
     "name": "stdout",
     "output_type": "stream",
     "text": [
      "majeur\n",
      "mineur\n"
     ]
    }
   ],
   "source": [
    "if age > 18:\n",
    "    print(\"majeur\")\n",
    "if age < 24:\n",
    "    print(\"mineur\")\n"
   ]
  },
  {
   "cell_type": "code",
   "execution_count": 19,
   "metadata": {},
   "outputs": [
    {
     "name": "stdout",
     "output_type": "stream",
     "text": [
      "You are not 18\n",
      "You are 18 or french\n"
     ]
    }
   ],
   "source": [
    "if age == 18:\n",
    "    print(\"You are 18\")\n",
    "    \n",
    "if age != 18:\n",
    "    print(\"You are not 18\")\n",
    "    \n",
    "nationality = \"French\"\n",
    "if age == 18 and nationality == \"French\":\n",
    "    print(\"You are 18 and french\")\n",
    "    \n",
    "if age == 18 or nationality == \"French\":\n",
    "    print(\"You are 18 or french\")\n"
   ]
  },
  {
   "cell_type": "markdown",
   "metadata": {},
   "source": [
    "### Fizz buzz\n",
    "\n",
    "For every number form 0 to 100 print :\n",
    "\n",
    "* fizz if it's divisible by 3\n",
    "* buzz if it's divisible by 5\n",
    "* bazz if it's divisble by 3 and 5\n",
    "* else print the number\n",
    "\n",
    "\n",
    "We'll get \n",
    "\n",
    "bazz\n",
    "\n",
    "1\n",
    "\n",
    "2\n",
    "\n",
    "fizz\n",
    "\n",
    "4\n",
    "\n",
    "buzz\n",
    "\n",
    "..."
   ]
  },
  {
   "cell_type": "code",
   "execution_count": 18,
   "metadata": {},
   "outputs": [
    {
     "data": {
      "text/plain": [
       "1"
      ]
     },
     "execution_count": 18,
     "metadata": {},
     "output_type": "execute_result"
    }
   ],
   "source": [
    "# check if 8 is divisible by 4\n",
    "9 % 4 == 0 # check if it's equal to zero\n"
   ]
  },
  {
   "cell_type": "code",
   "execution_count": 24,
   "metadata": {},
   "outputs": [
    {
     "name": "stdout",
     "output_type": "stream",
     "text": [
      "bazz\n",
      "1\n",
      "2\n",
      "fizz\n",
      "4\n",
      "buzz\n",
      "fizz\n",
      "7\n",
      "8\n",
      "fizz\n",
      "buzz\n",
      "11\n",
      "fizz\n",
      "13\n",
      "14\n",
      "bazz\n",
      "16\n",
      "17\n",
      "fizz\n",
      "19\n",
      "buzz\n",
      "fizz\n",
      "22\n",
      "23\n",
      "fizz\n",
      "buzz\n",
      "26\n",
      "fizz\n",
      "28\n",
      "29\n",
      "bazz\n",
      "31\n",
      "32\n",
      "fizz\n",
      "34\n",
      "buzz\n",
      "fizz\n",
      "37\n",
      "38\n",
      "fizz\n",
      "buzz\n",
      "41\n",
      "fizz\n",
      "43\n",
      "44\n",
      "bazz\n",
      "46\n",
      "47\n",
      "fizz\n",
      "49\n",
      "buzz\n",
      "fizz\n",
      "52\n",
      "53\n",
      "fizz\n",
      "buzz\n",
      "56\n",
      "fizz\n",
      "58\n",
      "59\n",
      "bazz\n",
      "61\n",
      "62\n",
      "fizz\n",
      "64\n",
      "buzz\n",
      "fizz\n",
      "67\n",
      "68\n",
      "fizz\n",
      "buzz\n",
      "71\n",
      "fizz\n",
      "73\n",
      "74\n",
      "bazz\n",
      "76\n",
      "77\n",
      "fizz\n",
      "79\n",
      "buzz\n",
      "fizz\n",
      "82\n",
      "83\n",
      "fizz\n",
      "buzz\n",
      "86\n",
      "fizz\n",
      "88\n",
      "89\n",
      "bazz\n",
      "91\n",
      "92\n",
      "fizz\n",
      "94\n",
      "buzz\n",
      "fizz\n",
      "97\n",
      "98\n",
      "fizz\n"
     ]
    }
   ],
   "source": [
    "for i in range(100):\n",
    "    if i % 15 == 0:\n",
    "        print(\"bazz\")\n",
    "    elif i % 3 == 0:\n",
    "        print(\"fizz\")\n",
    "    elif i % 5 == 0:\n",
    "        print(\"buzz\")\n",
    "    else:\n",
    "        print(i)"
   ]
  },
  {
   "cell_type": "markdown",
   "metadata": {},
   "source": [
    "### Bubble sort\n",
    "\n",
    "Sort elements in a list by comparing each element to the following one and changing their order if needed.\n"
   ]
  },
  {
   "cell_type": "code",
   "execution_count": 31,
   "metadata": {},
   "outputs": [
    {
     "name": "stdout",
     "output_type": "stream",
     "text": [
      "[3, 4, 4, 1, 7, 0, 9]\n"
     ]
    }
   ],
   "source": [
    "my_list = [4,3,9,4,1,7,0]\n",
    "\n",
    "for i in range(len(my_list)-1):\n",
    "    if my_list[i] > my_list[i+1]:\n",
    "        my_list[i], my_list[i+1] = my_list[i+1], my_list[i]\n",
    "\n",
    "print(my_list)"
   ]
  },
  {
   "cell_type": "code",
   "execution_count": null,
   "metadata": {},
   "outputs": [],
   "source": [
    "a = 2\n",
    "b = 4\n",
    "\n",
    "a, b = 2, 4"
   ]
  },
  {
   "cell_type": "code",
   "execution_count": 32,
   "metadata": {},
   "outputs": [
    {
     "name": "stdout",
     "output_type": "stream",
     "text": [
      "What's your name ?Mikhail\n"
     ]
    }
   ],
   "source": [
    "name = input(\"What's your name ?\")"
   ]
  },
  {
   "cell_type": "code",
   "execution_count": 33,
   "metadata": {},
   "outputs": [
    {
     "name": "stdout",
     "output_type": "stream",
     "text": [
      "Mikhail\n"
     ]
    }
   ],
   "source": [
    "print(name)"
   ]
  },
  {
   "cell_type": "code",
   "execution_count": 37,
   "metadata": {},
   "outputs": [
    {
     "name": "stdout",
     "output_type": "stream",
     "text": [
      "How old are you ?24\n"
     ]
    }
   ],
   "source": [
    "age = int(input(\"How old are you ?\"))"
   ]
  },
  {
   "cell_type": "code",
   "execution_count": 38,
   "metadata": {},
   "outputs": [
    {
     "name": "stdout",
     "output_type": "stream",
     "text": [
      "25\n"
     ]
    }
   ],
   "source": [
    "print(age + 1)"
   ]
  },
  {
   "cell_type": "markdown",
   "metadata": {},
   "source": [
    "### Dichotomy search\n",
    "\n",
    "* The computer generates a random number between 0 and 100\n",
    "* Then the user make a proposition to guess the number\n",
    "* If the proposition is too big, the computer prints \"too big\" and the\n",
    "   user can make another propsition\n",
    "* If the propostion is too small the computer prints \"too small\" and the\n",
    "   user can make another propsition\n",
    "* Else the computer print \"You won\"\n"
   ]
  },
  {
   "cell_type": "code",
   "execution_count": 39,
   "metadata": {},
   "outputs": [
    {
     "name": "stdout",
     "output_type": "stream",
     "text": [
      "1\n",
      "2\n",
      "3\n",
      "4\n",
      "5\n",
      "6\n"
     ]
    }
   ],
   "source": [
    "i = 0\n",
    "while i < 10:\n",
    "    i += 1\n",
    "    print(i)\n",
    "    if i > 5:\n",
    "        break\n",
    "        "
   ]
  },
  {
   "cell_type": "code",
   "execution_count": 41,
   "metadata": {},
   "outputs": [
    {
     "name": "stdout",
     "output_type": "stream",
     "text": [
      "1\n",
      "2\n",
      "3\n",
      "4\n",
      "6\n",
      "7\n",
      "8\n",
      "9\n",
      "10\n"
     ]
    }
   ],
   "source": [
    "i = 0\n",
    "while i < 10:\n",
    "    i += 1\n",
    "    if i == 5:\n",
    "        continue\n",
    "    print(i) # we won't execute this if i == 5\n",
    "        "
   ]
  },
  {
   "cell_type": "markdown",
   "metadata": {},
   "source": [
    "### Dichotomy search\n",
    "\n",
    "* The computer generates a random number between 0 and 100\n",
    "* Then the user make a proposition to guess the number\n",
    "* If the proposition is too big, the computer prints \"too big\" and the\n",
    "   user can make another propsition\n",
    "* If the propostion is too small the computer prints \"too small\" and the\n",
    "   user can make another propsition\n",
    "* Else the computer print \"You won\"\n"
   ]
  },
  {
   "cell_type": "code",
   "execution_count": 51,
   "metadata": {},
   "outputs": [
    {
     "name": "stdout",
     "output_type": "stream",
     "text": [
      "Guess the number50\n",
      "Too big\n",
      "Guess the number25\n",
      "Too big\n",
      "Guess the number17\n",
      "Too small\n",
      "Guess the number20\n",
      "Too small\n",
      "Guess the number22\n",
      "You won\n"
     ]
    }
   ],
   "source": [
    "from random import randint\n",
    "\n",
    "number_to_guess = randint(0, 100)\n",
    "\n",
    "proposition = int(input(\"Guess the number\"))\n",
    "\n",
    "while proposition != number_to_guess:\n",
    "    if proposition > number_to_guess:\n",
    "        print(\"Too big\")\n",
    "    elif proposition < number_to_guess:\n",
    "        print(\"Too small\")\n",
    "    proposition = int(input(\"Guess the number\"))\n",
    "\n",
    "print(\"You won\")\n"
   ]
  },
  {
   "cell_type": "markdown",
   "metadata": {},
   "source": [
    "### Functions\n"
   ]
  },
  {
   "cell_type": "code",
   "execution_count": 52,
   "metadata": {},
   "outputs": [
    {
     "name": "stdout",
     "output_type": "stream",
     "text": [
      "6\n"
     ]
    }
   ],
   "source": [
    "def addition(a, b):\n",
    "    return a + b\n",
    "\n",
    "resultat = addition(2, 4)\n",
    "print(resultat)"
   ]
  },
  {
   "cell_type": "code",
   "execution_count": 54,
   "metadata": {},
   "outputs": [
    {
     "name": "stdout",
     "output_type": "stream",
     "text": [
      "[5, 1, 3, 6]\n"
     ]
    }
   ],
   "source": [
    "def exchange_first_and_second(list_input):\n",
    "    list_input[0], list_input[1] = list_input[1], list_input[0]\n",
    "    \n",
    "my_list = [1,5,3,6]\n",
    "exchange_first_and_second(my_list)\n",
    "print(my_list)"
   ]
  },
  {
   "cell_type": "code",
   "execution_count": 57,
   "metadata": {},
   "outputs": [
    {
     "name": "stdout",
     "output_type": "stream",
     "text": [
      "hello world\n"
     ]
    }
   ],
   "source": [
    "def say_hello():\n",
    "    print(\"hello world\")\n",
    "    \n",
    "say_hello # nothing happen with no parenthesis\n",
    "say_hello() # we need parenthesis to call the function"
   ]
  },
  {
   "cell_type": "code",
   "execution_count": 70,
   "metadata": {},
   "outputs": [],
   "source": [
    "def greetings(name, age=32, city=\"Paris\"):\n",
    "    print(f\"Hello {name}. You are {age} y.o. And you live in {city}\")\n",
    "\n",
    "def greetings_with_no_default_param(name, age):\n",
    "    print(f\"Hello {name}. You are {age} y.o.\")"
   ]
  },
  {
   "cell_type": "code",
   "execution_count": 72,
   "metadata": {},
   "outputs": [
    {
     "name": "stdout",
     "output_type": "stream",
     "text": [
      "Hello Justine. You are 32 y.o. And you live in Paris\n",
      "Hello Justine. You are 42 y.o. And you live in Paris\n",
      "Hello Justine. You are Paris y.o. And you live in Paris\n",
      "Hello Oliver. You are 32 y.o. And you live in London\n"
     ]
    }
   ],
   "source": [
    "greetings(\"Justine\")\n",
    "greetings(\"Justine\", 42)\n",
    "greetings(\"Justine\", \"Paris\") # Paris is going to be the age parameter here\n",
    "greetings(\"Oliver\", city=\"London\")\n",
    "\n",
    "# greetings_with_no_default_param(\"Justine\") # Does not work because we need two params"
   ]
  },
  {
   "cell_type": "code",
   "execution_count": 73,
   "metadata": {},
   "outputs": [],
   "source": [
    "def mean(list_input, number_of_elements=None):\n",
    "    \"\"\"\n",
    "        returns the average of elements in the list\n",
    "        if number_of_elements is not None,\n",
    "        returns the average of the n-th first elements\n",
    "        \n",
    "        :Example:\n",
    "        >>> mean([2,4,5], 2)\n",
    "        3\n",
    "    \"\"\""
   ]
  },
  {
   "cell_type": "code",
   "execution_count": 90,
   "metadata": {},
   "outputs": [
    {
     "data": {
      "text/plain": [
       "[2, 4, 5, 6, 7, 9]"
      ]
     },
     "execution_count": 90,
     "metadata": {},
     "output_type": "execute_result"
    }
   ],
   "source": [
    "def merge(array1, array2):\n",
    "    \"\"\"\n",
    "        returns a sorted array containing\n",
    "        all elements from array1 and array2\n",
    "        :example:\n",
    "        >>> merge([2,3,5], [0,7,8])\n",
    "        [0,2,3,5,7,8]\n",
    "    \"\"\"\n",
    "    i = 0\n",
    "    j = 0\n",
    "    result = []\n",
    "    while i < len(array1) and j < len(array2):\n",
    "        if array1[i] < array2[j]:\n",
    "            result.append(array1[i])\n",
    "            i += 1\n",
    "        else:\n",
    "            result.append(array2[j])\n",
    "            j += 1\n",
    "    # add remaining elements from array1 or array2\n",
    "    result.extend(array1[i:])\n",
    "    result.extend(array2[j:])\n",
    "    return result\n",
    "\n",
    "merge([2,4,7], [5,6,9])\n",
    "# def merge_sort(array):\n",
    "#     if len(array) ...:\n",
    "#         ...\n",
    "#     else:\n",
    "#         return merge(\n",
    "#             merge_sort(array[...]), # first half \n",
    "#             merge_sort(array[...]), # second half\n",
    "#         )"
   ]
  },
  {
   "cell_type": "code",
   "execution_count": 86,
   "metadata": {},
   "outputs": [],
   "source": [
    "my_list= [1]\n",
    "my_list.append(2)"
   ]
  },
  {
   "cell_type": "code",
   "execution_count": 87,
   "metadata": {},
   "outputs": [
    {
     "data": {
      "text/plain": [
       "[1, 2]"
      ]
     },
     "execution_count": 87,
     "metadata": {},
     "output_type": "execute_result"
    }
   ],
   "source": [
    "my_list"
   ]
  },
  {
   "cell_type": "code",
   "execution_count": 91,
   "metadata": {},
   "outputs": [
    {
     "name": "stdout",
     "output_type": "stream",
     "text": [
      "Help on function create_users in module __main__:\n",
      "\n",
      "create_users(username_list, userage_list)\n",
      "    :Example:\n",
      "    >>> create_users([\"Martin\",...], [22,...])\n",
      "    [{name: Martin, age: 22}, ...]\n",
      "\n"
     ]
    }
   ],
   "source": [
    "def create_users(username_list, userage_list):\n",
    "    \"\"\"\n",
    "    returns an array of dictionary-like users  \n",
    "    :Example:\n",
    "    >>> create_users([\"Martin\",...], [22,...])\n",
    "    [{name: Martin, age: 22}, ...]\n",
    "    \"\"\"\n",
    "    return \n",
    "\n"
   ]
  },
  {
   "cell_type": "code",
   "execution_count": 99,
   "metadata": {},
   "outputs": [
    {
     "name": "stdout",
     "output_type": "stream",
     "text": [
      "[{'name': 'Justine'}, {'name': 'Helene'}, {'name': 'Roger'}]\n"
     ]
    },
    {
     "ename": "AttributeError",
     "evalue": "'int' object has no attribute 'append'",
     "output_type": "error",
     "traceback": [
      "\u001b[1;31m---------------------------------------------------------------------------\u001b[0m",
      "\u001b[1;31mAttributeError\u001b[0m                            Traceback (most recent call last)",
      "\u001b[1;32m<ipython-input-99-e7527492c860>\u001b[0m in \u001b[0;36m<module>\u001b[1;34m\u001b[0m\n\u001b[0;32m      9\u001b[0m \u001b[1;33m\u001b[0m\u001b[0m\n\u001b[0;32m     10\u001b[0m \u001b[0mnumber\u001b[0m \u001b[1;33m=\u001b[0m \u001b[1;36m4\u001b[0m\u001b[1;33m\u001b[0m\u001b[1;33m\u001b[0m\u001b[0m\n\u001b[1;32m---> 11\u001b[1;33m \u001b[0mnumber\u001b[0m\u001b[1;33m.\u001b[0m\u001b[0mappend\u001b[0m\u001b[1;33m(\u001b[0m\u001b[1;36m4\u001b[0m\u001b[1;33m)\u001b[0m\u001b[1;33m\u001b[0m\u001b[1;33m\u001b[0m\u001b[0m\n\u001b[0m",
      "\u001b[1;31mAttributeError\u001b[0m: 'int' object has no attribute 'append'"
     ]
    }
   ],
   "source": [
    "list_number = [4,5,6,12] # list of numbers\n",
    "\n",
    "list_boolean = [True, False, True] # List of boolean\n",
    "# list_boolean.append(2)\n",
    "\n",
    "list_dictionary = [{\"name\": \"Justine\"}, {\"name\": \"Helene\"}]\n",
    "list_dictionary.append({\"name\": \"Roger\"})\n",
    "print(list_dictionary)\n",
    "\n",
    "number = 4\n",
    "number.append(4)"
   ]
  },
  {
   "cell_type": "code",
   "execution_count": 108,
   "metadata": {},
   "outputs": [
    {
     "data": {
      "text/plain": [
       "4"
      ]
     },
     "execution_count": 108,
     "metadata": {},
     "output_type": "execute_result"
    }
   ],
   "source": [
    "list_of_list = [[0], [4]]\n",
    "list_of_list[1][0]"
   ]
  },
  {
   "cell_type": "code",
   "execution_count": 114,
   "metadata": {},
   "outputs": [],
   "source": [
    "def create_users(username_list, userage_list):\n",
    "    \"\"\"\n",
    "    returns an array of dictionary-like users  \n",
    "    :Example:\n",
    "    >>> create_users([\"Martin\",...], [22,...])\n",
    "    [{name: Martin, age: 22}, ...]\n",
    "    \"\"\"\n",
    "    result = []\n",
    "    for name, age in zip(username_list, userage_list):\n",
    "        result.append({\"name\": name, \"age\": age})\n",
    "    return result\n",
    "\n",
    "users = create_users([\"George\", \"Washington\", \"Bush\"], [42,36,28])"
   ]
  },
  {
   "cell_type": "code",
   "execution_count": 115,
   "metadata": {},
   "outputs": [
    {
     "name": "stdout",
     "output_type": "stream",
     "text": [
      "{'age': 28}\n"
     ]
    }
   ],
   "source": [
    "dico = {\"age\": 42}\n",
    "b = dico\n",
    "b[\"age\"] = 28\n",
    "\n",
    "print(dico)"
   ]
  },
  {
   "cell_type": "code",
   "execution_count": 117,
   "metadata": {},
   "outputs": [
    {
     "data": {
      "text/plain": [
       "42"
      ]
     },
     "execution_count": 117,
     "metadata": {},
     "output_type": "execute_result"
    }
   ],
   "source": [
    "# users[0][age] won't work because age is not a variable\n",
    "users[0][\"age\"]\n"
   ]
  },
  {
   "cell_type": "code",
   "execution_count": 118,
   "metadata": {},
   "outputs": [
    {
     "data": {
      "text/plain": [
       "[{'name': 'George', 'age': 42}, {'name': 'Washington', 'age': 36}]"
      ]
     },
     "execution_count": 118,
     "metadata": {},
     "output_type": "execute_result"
    }
   ],
   "source": [
    "def filter_threshold(user_list, threshold):\n",
    "    \"\"\"\n",
    "    Get all users with age above this threshold\n",
    "    \"\"\"\n",
    "    result = []\n",
    "    for user in user_list:\n",
    "        if user[\"age\"] > threshold:\n",
    "            result.append(user)\n",
    "    return result\n",
    "\n",
    "filter_threshold(users, 30)"
   ]
  },
  {
   "cell_type": "code",
   "execution_count": 122,
   "metadata": {},
   "outputs": [
    {
     "name": "stdout",
     "output_type": "stream",
     "text": [
      "Hello Gregoire\n"
     ]
    }
   ],
   "source": [
    "# Works but not good\n",
    "name = \"Gregoire\"\n",
    "\n",
    "def say_hello():\n",
    "    print(f\"Hello {name}\")\n",
    "    \n",
    "say_hello()"
   ]
  },
  {
   "cell_type": "code",
   "execution_count": 123,
   "metadata": {},
   "outputs": [
    {
     "name": "stdout",
     "output_type": "stream",
     "text": [
      "Hello Boby\n"
     ]
    }
   ],
   "source": [
    "# Works but not good\n",
    "def say_hello():\n",
    "    print(f\"Hello {name2}\")\n",
    "\n",
    "name2 = \"Boby\"\n",
    "\n",
    "say_hello()"
   ]
  },
  {
   "cell_type": "code",
   "execution_count": 126,
   "metadata": {},
   "outputs": [
    {
     "name": "stdout",
     "output_type": "stream",
     "text": [
      "Hello Boby\n"
     ]
    }
   ],
   "source": [
    "# Works \n",
    "def say_hello(name):\n",
    "    print(f\"Hello {name}\")\n",
    "\n",
    "name= \"Alain\"\n",
    "name2 = \"Boby\"\n",
    "\n",
    "say_hello(name2)"
   ]
  },
  {
   "cell_type": "code",
   "execution_count": 127,
   "metadata": {},
   "outputs": [
    {
     "name": "stdout",
     "output_type": "stream",
     "text": [
      "Hello George\n",
      "Boby\n"
     ]
    }
   ],
   "source": [
    "# Works but not good\n",
    "\n",
    "name = \"Alain\"\n",
    "\n",
    "def say_hello():\n",
    "    name = \"George\"\n",
    "    print(f\"Hello {name}\")\n",
    "\n",
    "name = \"Boby\"\n",
    "\n",
    "say_hello()\n",
    "print(name)\n"
   ]
  },
  {
   "cell_type": "code",
   "execution_count": 128,
   "metadata": {},
   "outputs": [
    {
     "ename": "UnboundLocalError",
     "evalue": "local variable 'name' referenced before assignment",
     "output_type": "error",
     "traceback": [
      "\u001b[1;31m---------------------------------------------------------------------------\u001b[0m",
      "\u001b[1;31mUnboundLocalError\u001b[0m                         Traceback (most recent call last)",
      "\u001b[1;32m<ipython-input-128-ed2d1d052e6f>\u001b[0m in \u001b[0;36m<module>\u001b[1;34m\u001b[0m\n\u001b[0;32m      9\u001b[0m \u001b[0mname\u001b[0m \u001b[1;33m=\u001b[0m \u001b[1;34m\"Boby\"\u001b[0m\u001b[1;33m\u001b[0m\u001b[1;33m\u001b[0m\u001b[0m\n\u001b[0;32m     10\u001b[0m \u001b[1;33m\u001b[0m\u001b[0m\n\u001b[1;32m---> 11\u001b[1;33m \u001b[0msay_hello\u001b[0m\u001b[1;33m(\u001b[0m\u001b[1;33m)\u001b[0m\u001b[1;33m\u001b[0m\u001b[1;33m\u001b[0m\u001b[0m\n\u001b[0m\u001b[0;32m     12\u001b[0m \u001b[0mprint\u001b[0m\u001b[1;33m(\u001b[0m\u001b[0mname\u001b[0m\u001b[1;33m)\u001b[0m\u001b[1;33m\u001b[0m\u001b[1;33m\u001b[0m\u001b[0m\n",
      "\u001b[1;32m<ipython-input-128-ed2d1d052e6f>\u001b[0m in \u001b[0;36msay_hello\u001b[1;34m()\u001b[0m\n\u001b[0;32m      4\u001b[0m \u001b[1;33m\u001b[0m\u001b[0m\n\u001b[0;32m      5\u001b[0m \u001b[1;32mdef\u001b[0m \u001b[0msay_hello\u001b[0m\u001b[1;33m(\u001b[0m\u001b[1;33m)\u001b[0m\u001b[1;33m:\u001b[0m\u001b[1;33m\u001b[0m\u001b[1;33m\u001b[0m\u001b[0m\n\u001b[1;32m----> 6\u001b[1;33m     \u001b[0mprint\u001b[0m\u001b[1;33m(\u001b[0m\u001b[1;34mf\"Hello {name}\"\u001b[0m\u001b[1;33m)\u001b[0m\u001b[1;33m\u001b[0m\u001b[1;33m\u001b[0m\u001b[0m\n\u001b[0m\u001b[0;32m      7\u001b[0m     \u001b[0mname\u001b[0m \u001b[1;33m=\u001b[0m \u001b[1;34m\"George\"\u001b[0m\u001b[1;33m\u001b[0m\u001b[1;33m\u001b[0m\u001b[0m\n\u001b[0;32m      8\u001b[0m \u001b[1;33m\u001b[0m\u001b[0m\n",
      "\u001b[1;31mUnboundLocalError\u001b[0m: local variable 'name' referenced before assignment"
     ]
    }
   ],
   "source": [
    "# Not working\n",
    "\n",
    "name = \"Alain\"\n",
    "\n",
    "def say_hello():\n",
    "    print(f\"Hello {name}\")\n",
    "    name = \"George\"\n",
    "\n",
    "name = \"Boby\"\n",
    "\n",
    "say_hello()\n",
    "print(name)\n"
   ]
  },
  {
   "cell_type": "code",
   "execution_count": 129,
   "metadata": {},
   "outputs": [
    {
     "name": "stdout",
     "output_type": "stream",
     "text": [
      "Hello Boby\n",
      "George\n"
     ]
    }
   ],
   "source": [
    "# global\n",
    "\n",
    "name = \"Alain\"\n",
    "\n",
    "def say_hello():\n",
    "    global name\n",
    "    print(f\"Hello {name}\")\n",
    "    name = \"George\"\n",
    "\n",
    "name = \"Boby\"\n",
    "\n",
    "say_hello()\n",
    "print(name)\n"
   ]
  },
  {
   "cell_type": "code",
   "execution_count": 132,
   "metadata": {},
   "outputs": [
    {
     "name": "stdout",
     "output_type": "stream",
     "text": [
      "Hello George\n",
      "George\n"
     ]
    }
   ],
   "source": [
    "# return\n",
    "\n",
    "name = \"Alain\"\n",
    "\n",
    "def say_hello():\n",
    "    name2 = \"George\"\n",
    "    print(f\"Hello {name2}\")\n",
    "    return name2\n",
    "\n",
    "name = \"Boby\"\n",
    "\n",
    "name = say_hello()\n",
    "print(name)\n"
   ]
  },
  {
   "cell_type": "code",
   "execution_count": 133,
   "metadata": {},
   "outputs": [
    {
     "name": "stdout",
     "output_type": "stream",
     "text": [
      "hello Mathieu\n"
     ]
    }
   ],
   "source": [
    "# Prints \"Hello Mathieu\" not \"Hello Eloise\"\n",
    "def say_hello(name):\n",
    "    print(f\"hello {name}\")\n",
    "    \n",
    "name = \"Eloise\"\n",
    "name2 = \"Mathieu\"\n",
    "\n",
    "say_hello(name2)"
   ]
  },
  {
   "cell_type": "code",
   "execution_count": null,
   "metadata": {},
   "outputs": [],
   "source": [
    "def filter_threshold(user_list, filter_fct):\n",
    "    \"\"\"\n",
    "    Get all users with age above this threshold\n",
    "    \"\"\"\n",
    "    result = []\n",
    "    for user in user_list:\n",
    "        if filter_fct(user):\n",
    "            result.append(user)\n",
    "    return result\n",
    "\n",
    "def my_filter(...):\n",
    "    \"\"\"\n",
    "    Filter people with names larger than 4 characters and older than 18\n",
    "    \"\"\"\n",
    "    ...\n",
    "    \n",
    "filter_threshold(users, my_filter) "
   ]
  },
  {
   "cell_type": "code",
   "execution_count": 160,
   "metadata": {},
   "outputs": [
    {
     "data": {
      "text/html": [
       "<div>\n",
       "<style scoped>\n",
       "    .dataframe tbody tr th:only-of-type {\n",
       "        vertical-align: middle;\n",
       "    }\n",
       "\n",
       "    .dataframe tbody tr th {\n",
       "        vertical-align: top;\n",
       "    }\n",
       "\n",
       "    .dataframe thead th {\n",
       "        text-align: right;\n",
       "    }\n",
       "</style>\n",
       "<table border=\"1\" class=\"dataframe\">\n",
       "  <thead>\n",
       "    <tr style=\"text-align: right;\">\n",
       "      <th></th>\n",
       "      <th>PassengerId</th>\n",
       "      <th>Survived</th>\n",
       "      <th>Pclass</th>\n",
       "      <th>Name</th>\n",
       "      <th>Sex</th>\n",
       "      <th>Age</th>\n",
       "      <th>SibSp</th>\n",
       "      <th>Parch</th>\n",
       "      <th>Ticket</th>\n",
       "      <th>Fare</th>\n",
       "      <th>Cabin</th>\n",
       "      <th>Embarked</th>\n",
       "      <th>Agex2</th>\n",
       "      <th>State</th>\n",
       "    </tr>\n",
       "  </thead>\n",
       "  <tbody>\n",
       "    <tr>\n",
       "      <th>0</th>\n",
       "      <td>1</td>\n",
       "      <td>0</td>\n",
       "      <td>3</td>\n",
       "      <td>Braund, Mr. Owen Harris</td>\n",
       "      <td>male</td>\n",
       "      <td>22.0</td>\n",
       "      <td>1</td>\n",
       "      <td>0</td>\n",
       "      <td>A/5 21171</td>\n",
       "      <td>7.2500</td>\n",
       "      <td>NaN</td>\n",
       "      <td>S</td>\n",
       "      <td>44.0</td>\n",
       "      <td>majeur</td>\n",
       "    </tr>\n",
       "    <tr>\n",
       "      <th>1</th>\n",
       "      <td>2</td>\n",
       "      <td>1</td>\n",
       "      <td>1</td>\n",
       "      <td>Cumings, Mrs. John Bradley (Florence Briggs Th...</td>\n",
       "      <td>female</td>\n",
       "      <td>38.0</td>\n",
       "      <td>1</td>\n",
       "      <td>0</td>\n",
       "      <td>PC 17599</td>\n",
       "      <td>71.2833</td>\n",
       "      <td>C85</td>\n",
       "      <td>C</td>\n",
       "      <td>76.0</td>\n",
       "      <td>majeur</td>\n",
       "    </tr>\n",
       "    <tr>\n",
       "      <th>2</th>\n",
       "      <td>3</td>\n",
       "      <td>1</td>\n",
       "      <td>3</td>\n",
       "      <td>Heikkinen, Miss. Laina</td>\n",
       "      <td>female</td>\n",
       "      <td>26.0</td>\n",
       "      <td>0</td>\n",
       "      <td>0</td>\n",
       "      <td>STON/O2. 3101282</td>\n",
       "      <td>7.9250</td>\n",
       "      <td>NaN</td>\n",
       "      <td>S</td>\n",
       "      <td>52.0</td>\n",
       "      <td>majeur</td>\n",
       "    </tr>\n",
       "    <tr>\n",
       "      <th>3</th>\n",
       "      <td>4</td>\n",
       "      <td>1</td>\n",
       "      <td>1</td>\n",
       "      <td>Futrelle, Mrs. Jacques Heath (Lily May Peel)</td>\n",
       "      <td>female</td>\n",
       "      <td>35.0</td>\n",
       "      <td>1</td>\n",
       "      <td>0</td>\n",
       "      <td>113803</td>\n",
       "      <td>53.1000</td>\n",
       "      <td>C123</td>\n",
       "      <td>S</td>\n",
       "      <td>70.0</td>\n",
       "      <td>majeur</td>\n",
       "    </tr>\n",
       "    <tr>\n",
       "      <th>4</th>\n",
       "      <td>5</td>\n",
       "      <td>0</td>\n",
       "      <td>3</td>\n",
       "      <td>Allen, Mr. William Henry</td>\n",
       "      <td>male</td>\n",
       "      <td>35.0</td>\n",
       "      <td>0</td>\n",
       "      <td>0</td>\n",
       "      <td>373450</td>\n",
       "      <td>8.0500</td>\n",
       "      <td>NaN</td>\n",
       "      <td>S</td>\n",
       "      <td>70.0</td>\n",
       "      <td>majeur</td>\n",
       "    </tr>\n",
       "    <tr>\n",
       "      <th>...</th>\n",
       "      <td>...</td>\n",
       "      <td>...</td>\n",
       "      <td>...</td>\n",
       "      <td>...</td>\n",
       "      <td>...</td>\n",
       "      <td>...</td>\n",
       "      <td>...</td>\n",
       "      <td>...</td>\n",
       "      <td>...</td>\n",
       "      <td>...</td>\n",
       "      <td>...</td>\n",
       "      <td>...</td>\n",
       "      <td>...</td>\n",
       "      <td>...</td>\n",
       "    </tr>\n",
       "    <tr>\n",
       "      <th>886</th>\n",
       "      <td>887</td>\n",
       "      <td>0</td>\n",
       "      <td>2</td>\n",
       "      <td>Montvila, Rev. Juozas</td>\n",
       "      <td>male</td>\n",
       "      <td>27.0</td>\n",
       "      <td>0</td>\n",
       "      <td>0</td>\n",
       "      <td>211536</td>\n",
       "      <td>13.0000</td>\n",
       "      <td>NaN</td>\n",
       "      <td>S</td>\n",
       "      <td>54.0</td>\n",
       "      <td>majeur</td>\n",
       "    </tr>\n",
       "    <tr>\n",
       "      <th>887</th>\n",
       "      <td>888</td>\n",
       "      <td>1</td>\n",
       "      <td>1</td>\n",
       "      <td>Graham, Miss. Margaret Edith</td>\n",
       "      <td>female</td>\n",
       "      <td>19.0</td>\n",
       "      <td>0</td>\n",
       "      <td>0</td>\n",
       "      <td>112053</td>\n",
       "      <td>30.0000</td>\n",
       "      <td>B42</td>\n",
       "      <td>S</td>\n",
       "      <td>38.0</td>\n",
       "      <td>majeur</td>\n",
       "    </tr>\n",
       "    <tr>\n",
       "      <th>888</th>\n",
       "      <td>889</td>\n",
       "      <td>0</td>\n",
       "      <td>3</td>\n",
       "      <td>Johnston, Miss. Catherine Helen \"Carrie\"</td>\n",
       "      <td>female</td>\n",
       "      <td>NaN</td>\n",
       "      <td>1</td>\n",
       "      <td>2</td>\n",
       "      <td>W./C. 6607</td>\n",
       "      <td>23.4500</td>\n",
       "      <td>NaN</td>\n",
       "      <td>S</td>\n",
       "      <td>NaN</td>\n",
       "      <td>majeur</td>\n",
       "    </tr>\n",
       "    <tr>\n",
       "      <th>889</th>\n",
       "      <td>890</td>\n",
       "      <td>1</td>\n",
       "      <td>1</td>\n",
       "      <td>Behr, Mr. Karl Howell</td>\n",
       "      <td>male</td>\n",
       "      <td>26.0</td>\n",
       "      <td>0</td>\n",
       "      <td>0</td>\n",
       "      <td>111369</td>\n",
       "      <td>30.0000</td>\n",
       "      <td>C148</td>\n",
       "      <td>C</td>\n",
       "      <td>52.0</td>\n",
       "      <td>majeur</td>\n",
       "    </tr>\n",
       "    <tr>\n",
       "      <th>890</th>\n",
       "      <td>891</td>\n",
       "      <td>0</td>\n",
       "      <td>3</td>\n",
       "      <td>Dooley, Mr. Patrick</td>\n",
       "      <td>male</td>\n",
       "      <td>32.0</td>\n",
       "      <td>0</td>\n",
       "      <td>0</td>\n",
       "      <td>370376</td>\n",
       "      <td>7.7500</td>\n",
       "      <td>NaN</td>\n",
       "      <td>Q</td>\n",
       "      <td>64.0</td>\n",
       "      <td>majeur</td>\n",
       "    </tr>\n",
       "  </tbody>\n",
       "</table>\n",
       "<p>891 rows × 14 columns</p>\n",
       "</div>"
      ],
      "text/plain": [
       "     PassengerId  Survived  Pclass  \\\n",
       "0              1         0       3   \n",
       "1              2         1       1   \n",
       "2              3         1       3   \n",
       "3              4         1       1   \n",
       "4              5         0       3   \n",
       "..           ...       ...     ...   \n",
       "886          887         0       2   \n",
       "887          888         1       1   \n",
       "888          889         0       3   \n",
       "889          890         1       1   \n",
       "890          891         0       3   \n",
       "\n",
       "                                                  Name     Sex   Age  SibSp  \\\n",
       "0                              Braund, Mr. Owen Harris    male  22.0      1   \n",
       "1    Cumings, Mrs. John Bradley (Florence Briggs Th...  female  38.0      1   \n",
       "2                               Heikkinen, Miss. Laina  female  26.0      0   \n",
       "3         Futrelle, Mrs. Jacques Heath (Lily May Peel)  female  35.0      1   \n",
       "4                             Allen, Mr. William Henry    male  35.0      0   \n",
       "..                                                 ...     ...   ...    ...   \n",
       "886                              Montvila, Rev. Juozas    male  27.0      0   \n",
       "887                       Graham, Miss. Margaret Edith  female  19.0      0   \n",
       "888           Johnston, Miss. Catherine Helen \"Carrie\"  female   NaN      1   \n",
       "889                              Behr, Mr. Karl Howell    male  26.0      0   \n",
       "890                                Dooley, Mr. Patrick    male  32.0      0   \n",
       "\n",
       "     Parch            Ticket     Fare Cabin Embarked  Agex2   State  \n",
       "0        0         A/5 21171   7.2500   NaN        S   44.0  majeur  \n",
       "1        0          PC 17599  71.2833   C85        C   76.0  majeur  \n",
       "2        0  STON/O2. 3101282   7.9250   NaN        S   52.0  majeur  \n",
       "3        0            113803  53.1000  C123        S   70.0  majeur  \n",
       "4        0            373450   8.0500   NaN        S   70.0  majeur  \n",
       "..     ...               ...      ...   ...      ...    ...     ...  \n",
       "886      0            211536  13.0000   NaN        S   54.0  majeur  \n",
       "887      0            112053  30.0000   B42        S   38.0  majeur  \n",
       "888      2        W./C. 6607  23.4500   NaN        S    NaN  majeur  \n",
       "889      0            111369  30.0000  C148        C   52.0  majeur  \n",
       "890      0            370376   7.7500   NaN        Q   64.0  majeur  \n",
       "\n",
       "[891 rows x 14 columns]"
      ]
     },
     "execution_count": 160,
     "metadata": {},
     "output_type": "execute_result"
    }
   ],
   "source": [
    "import pandas as pd\n",
    "\n",
    "\n",
    "df = pd.read_csv(\"../train.csv\")\n",
    "\n",
    "df[\"Agex2\"] = df.Age.map(lambda age: age * 2)\n",
    "df[\"State\"] = df.Age.map(lambda age: \"mineur\" if age < 18 else \"majeur\")\n",
    "df"
   ]
  },
  {
   "cell_type": "code",
   "execution_count": 158,
   "metadata": {},
   "outputs": [
    {
     "name": "stdout",
     "output_type": "stream",
     "text": [
      "Hello Martin you are 24 y.o.\n",
      "mineur\n"
     ]
    }
   ],
   "source": [
    "def my_function(name, is_underage, age=24, city=\"Paris\"):\n",
    "    print(f\"Hello {name} you are {age} y.o.\")\n",
    "    if is_underage(age):\n",
    "        print(\"mineur\")\n",
    "    else:\n",
    "        print(\"majeur\")\n",
    "\n",
    "def is_less_than_18(age):\n",
    "    return age < 18\n",
    "\n",
    "def is_less_than_21(age):\n",
    "    return age < 21\n",
    "\n",
    "def is_underage(age, city):\n",
    "    if city == \"LA\":\n",
    "        return is_less_than_21(age)\n",
    "    else:\n",
    "        return is_less_than_18(age)\n",
    "    \n",
    "my_function(\"Martin\", lambda age: age > 18)\n",
    "# my_function(\"Noelia\", is_underage, 32)\n",
    "# my_function(\"John\", is_underage, city=\"Teheran\")\n"
   ]
  },
  {
   "cell_type": "code",
   "execution_count": 147,
   "metadata": {},
   "outputs": [],
   "source": [
    "my_list = []\n",
    "for i in range(10):\n",
    "    my_list.append(i * 2)\n",
    "    \n",
    "my_list = [i*2 for i in range(10)] # comprehensive list\n"
   ]
  },
  {
   "cell_type": "code",
   "execution_count": 150,
   "metadata": {},
   "outputs": [
    {
     "data": {
      "text/plain": [
       "['majeur', 'majeur', 'majeur']"
      ]
     },
     "execution_count": 150,
     "metadata": {},
     "output_type": "execute_result"
    }
   ],
   "source": [
    "def is_less_than_18(age):\n",
    "    if age < 18:\n",
    "        return \"mineur\"\n",
    "    else:\n",
    "        return \"majeur\"\n",
    "my_list = [ is_less_than_18(user[\"age\"]) for user in users ]\n",
    "my_list"
   ]
  },
  {
   "cell_type": "code",
   "execution_count": 151,
   "metadata": {},
   "outputs": [
    {
     "data": {
      "text/plain": [
       "['majeur', 'majeur', 'majeur']"
      ]
     },
     "execution_count": 151,
     "metadata": {},
     "output_type": "execute_result"
    }
   ],
   "source": [
    "my_list = [ (\"majeur\" if user[\"age\"] > 18 else \"mineur\") for user in users ]\n",
    "my_list"
   ]
  },
  {
   "cell_type": "code",
   "execution_count": 152,
   "metadata": {},
   "outputs": [
    {
     "name": "stdout",
     "output_type": "stream",
     "text": [
      "majeur\n"
     ]
    }
   ],
   "source": [
    "state = \"majeur\" if users[\"age\"] > 18 else \"mineur\"\n",
    "print(state)"
   ]
  },
  {
   "cell_type": "code",
   "execution_count": 156,
   "metadata": {},
   "outputs": [
    {
     "data": {
      "text/plain": [
       "['George', 'Washington', 'Bush']"
      ]
     },
     "execution_count": 156,
     "metadata": {},
     "output_type": "execute_result"
    }
   ],
   "source": [
    "[ user[\"name\"] for user in users]"
   ]
  },
  {
   "cell_type": "code",
   "execution_count": null,
   "metadata": {},
   "outputs": [],
   "source": [
    "# comprehensive list\n",
    "my_list = [ user[\"name\"] for user in users]\n",
    "\n",
    "# conditional affectation\n",
    "state = \"majeur\" if users[\"age\"] > 18 else \"mineur\"\n",
    "\n",
    "# lambda function\n",
    "func = lambda x: x * 2\n"
   ]
  },
  {
   "cell_type": "markdown",
   "metadata": {},
   "source": [
    "### Next things to come\n",
    "\n",
    "* Python environement\n",
    "* Object Oriented Programing\n",
    "* Tests"
   ]
  },
  {
   "cell_type": "code",
   "execution_count": 168,
   "metadata": {},
   "outputs": [],
   "source": [
    "# Install modules in the command line interface\n",
    "pip install --user virtualenv\n",
    "# Create a list of installed external modules\n",
    "pip freeze > requirements.txt\n",
    "# Install a list of external modules\n",
    "pip install –r requirements.txt\n",
    "# Create a virtual env\n",
    "python -m venv .env\n",
    "# Activate / Deactivate environment\n",
    "source .env/bin/activate\n",
    "deactivate\n",
    "\n",
    "pip install --user selenium\n"
   ]
  },
  {
   "cell_type": "code",
   "execution_count": 169,
   "metadata": {},
   "outputs": [
    {
     "name": "stdout",
     "output_type": "stream",
     "text": [
      "Hello\n"
     ]
    }
   ],
   "source": [
    "from MyPackage.module1 import say_hello\n",
    "\n",
    "say_hello()\n"
   ]
  },
  {
   "cell_type": "code",
   "execution_count": 185,
   "metadata": {},
   "outputs": [
    {
     "name": "stdout",
     "output_type": "stream",
     "text": [
      "Hello my name is Gloria\n",
      "Hello my name is Melina\n",
      "Hello Melina my name is Gloria\n",
      "Gloria\n",
      "Melina\n",
      "Lyon\n",
      "Gloria\n"
     ]
    }
   ],
   "source": [
    "class Person:\n",
    "    def __init__(self, prenom, location=\"Paris\"):\n",
    "        self.first_name = prenom\n",
    "        self.last_name = \"Gregovia\"\n",
    "        self.location = location\n",
    "    \n",
    "    def say_hi(self):\n",
    "        print(f\"Hello my name is {self.first_name}\")\n",
    "\n",
    "    def greetings(self, other):\n",
    "        \"\"\"\n",
    "        take one parameter : other\n",
    "        prints Hello {the other's firstname}, my name is {my firstname}\n",
    "        \"\"\"\n",
    "        assert type(other) is Person, \"other should be a person\"\n",
    "        print(f\"Hello {other.first_name} my name is {self.first_name}\")\n",
    "        \n",
    "    def __repr__(self):\n",
    "        return self.first_name\n",
    "    \n",
    "one_person = Person(\"Gloria\")\n",
    "second_person = Person(\"Melina\", \"Lyon\")\n",
    "\n",
    "one_person.say_hi()\n",
    "second_person.say_hi()\n",
    "one_person.greetings(second_person)\n",
    "print(one_person.first_name)\n",
    "print(second_person.first_name)\n",
    "print(second_person.location)\n",
    "\n",
    "print(one_person)"
   ]
  },
  {
   "cell_type": "code",
   "execution_count": 189,
   "metadata": {},
   "outputs": [
    {
     "name": "stdout",
     "output_type": "stream",
     "text": [
      "<__main__.Car object at 0x000002A89234EC18>\n",
      "<__main__.Car object at 0x000002A89234EC18>\n",
      "<__main__.Car object at 0x000002A89234EC18>\n",
      "<__main__.Car object at 0x000002A89234EC18>\n",
      "<__main__.Car object at 0x000002A89234EC18>\n",
      "<__main__.Car object at 0x000002A89234EC18>\n",
      "<__main__.Car object at 0x000002A89234EC18>\n",
      "<__main__.Car object at 0x000002A89234EC18>\n",
      "<__main__.Car object at 0x000002A89234EC18>\n",
      "<__main__.Car object at 0x000002A89234EC18>\n"
     ]
    }
   ],
   "source": [
    "import numpy as np\n",
    "from functools import total_ordering\n",
    "\n",
    "@total_ordering\n",
    "class Car:\n",
    "    \"\"\"\n",
    "    - brand: str\n",
    "    - speed: float (default 0)\n",
    "    - position: (default [0, 0])\n",
    "    - direction: (default [1, 0])\n",
    "    \n",
    "    methods:\n",
    "    - accelerate: add one to the speed\n",
    "    - stop: speed = 0\n",
    "    - run: position += direction -> we will need numpy for this part\n",
    "    - turn: direction turn 90° clockwise -> we will need numpy\n",
    "    \"\"\"\n",
    "    def __init__(self, brand, speed=0, position=np.array([0,0]), direction=np.array([1,0])):\n",
    "        self.brand = brand\n",
    "        self.speed = speed\n",
    "        self.position = position\n",
    "        self.direction = direction\n",
    "    def accelerate(self):\n",
    "        self.speed += 1\n",
    "    def stop(self):\n",
    "        self.speed = 0\n",
    "    def run(self):\n",
    "        self.position += self.direction\n",
    "    def turn(self):\n",
    "        self.direction = np.array([[0,1],[-1,0]]).dot(self.direction)\n",
    "    def __repr__(self):\n",
    "        return str(self.position)\n",
    "    def __lt__(self, other):\n",
    "        return self.speed < other.speed\n",
    "    def __eq__(self, other):\n",
    "        return self.speed == other.speed\n",
    "\n",
    "car1 = Car(\"Maybach\")\n",
    "for i in range(10):\n",
    "    car1.run()\n",
    "    if i % 3 == 0:\n",
    "        car1.turn()\n",
    "    print(car1)"
   ]
  },
  {
   "cell_type": "code",
   "execution_count": 194,
   "metadata": {},
   "outputs": [
    {
     "name": "stdout",
     "output_type": "stream",
     "text": [
      "start anotation\n",
      "hello LUC\n",
      "hello JAMES\n",
      "hello JOHN\n",
      "hello BOBBY\n"
     ]
    }
   ],
   "source": [
    "\n",
    "def uppercase(func):\n",
    "    print(\"start anotation\")\n",
    "    def new_function(name):\n",
    "        new_name = name.upper()\n",
    "        return func(new_name)\n",
    "    return new_function\n",
    "\n",
    "@uppercase\n",
    "def say_hi(name):\n",
    "    print(f\"hello {name}\")\n",
    "    \n",
    "say_hi(\"Luc\")\n",
    "say_hi(\"James\")\n",
    "say_hi(\"John\")\n",
    "say_hi(\"Bobby\")\n"
   ]
  },
  {
   "cell_type": "code",
   "execution_count": 206,
   "metadata": {},
   "outputs": [
    {
     "name": "stdout",
     "output_type": "stream",
     "text": [
      "id: 0 - balance : 1000\n",
      "id: 1 - balance : 1000\n"
     ]
    }
   ],
   "source": [
    "class Person:\n",
    "    def __init__(self, prenom, location=\"Paris\"):\n",
    "        self.first_name = prenom\n",
    "        self.last_name = \"Gregovia\"\n",
    "        self.location = location\n",
    "        # add an account for each Person\n",
    "        self.account = Account()\n",
    "        \n",
    "    def __repr__(self):\n",
    "        return self.first_name\n",
    "    \n",
    "class Account:\n",
    "    \"\"\"\n",
    "    - balance (default 1000)\n",
    "    \n",
    "    methods\n",
    "    - withdraw(amount) withdraw this amount to balance\n",
    "    - deposit(amount) add this amount to balance\n",
    "    \"\"\"\n",
    "    nb_of_accounts = 0\n",
    "    def __init__(self, balance=1000):\n",
    "        self.id = Account.nb_of_accounts\n",
    "        self.__balance = balance\n",
    "        Account.nb_of_accounts += 1\n",
    "        \n",
    "    def balance(self):\n",
    "        return self.__balance\n",
    "    \n",
    "    def withdraw(self, amount):\n",
    "        assert condition, \"Not enough money on the account\"\n",
    "        self.__balance -= amount\n",
    "    \n",
    "    def deposit(self, amount):\n",
    "        self.__balance += amount\n",
    "        \n",
    "    def __repr__(self):\n",
    "        return f\"id: {self.id} - balance : {self.__balance}\"\n",
    "\n",
    "someone = Person(\"Elisa\")\n",
    "someone_else = Person(\"Gaby\")\n",
    "print(someone.account)\n",
    "print(someone_else.account)\n",
    "\n",
    "# someone.account.balance = 50\n",
    "# someone.account.__balance -= 50\n"
   ]
  },
  {
   "cell_type": "code",
   "execution_count": 212,
   "metadata": {},
   "outputs": [
    {
     "name": "stderr",
     "output_type": "stream",
     "text": [
      "..F\n",
      "======================================================================\n",
      "FAIL: testWithdrawTooMuch (__main__.AccountTestCase)\n",
      "----------------------------------------------------------------------\n",
      "Traceback (most recent call last):\n",
      "  File \"<ipython-input-212-624fabfbd2a8>\", line 13, in testWithdrawTooMuch\n",
      "    self.account.withdraw(1000000)\n",
      "AssertionError: AssertionError not raised\n",
      "\n",
      "----------------------------------------------------------------------\n",
      "Ran 3 tests in 0.010s\n",
      "\n",
      "FAILED (failures=1)\n"
     ]
    },
    {
     "data": {
      "text/plain": [
       "<unittest.main.TestProgram at 0x2a8a7af0160>"
      ]
     },
     "execution_count": 212,
     "metadata": {},
     "output_type": "execute_result"
    }
   ],
   "source": [
    "import unittest\n",
    "\n",
    "class AccountTestCase(unittest.TestCase):\n",
    "    def setUp(self):\n",
    "        self.account = Account(2000)\n",
    "    def testBalanceIsOk(self):\n",
    "        self.assertEqual(self.account.balance(), 2000)\n",
    "    def testBasicWithdrawal(self):\n",
    "        self.account.withdraw(200)\n",
    "        self.assertEqual(self.account.balance(), 1800)\n",
    "    def testWithdrawTooMuch(self):\n",
    "        with self.assertRaises(AssertionError):\n",
    "            self.account.withdraw(1000000)\n",
    "\n",
    "unittest.main(argv=['first-arg-is-ignored'], exit=False)"
   ]
  },
  {
   "cell_type": "code",
   "execution_count": 216,
   "metadata": {},
   "outputs": [],
   "source": [
    "with open(\"list_users.txt\", \"a\") as f:\n",
    "    f.write(\"bonjour\")"
   ]
  },
  {
   "cell_type": "code",
   "execution_count": 218,
   "metadata": {},
   "outputs": [
    {
     "name": "stdout",
     "output_type": "stream",
     "text": [
      "bonjour\n"
     ]
    }
   ],
   "source": [
    "with open(\"list_users.txt\", \"r\") as f:\n",
    "    print(f.read())"
   ]
  },
  {
   "cell_type": "code",
   "execution_count": 223,
   "metadata": {},
   "outputs": [
    {
     "data": {
      "text/html": [
       "<div>\n",
       "<style scoped>\n",
       "    .dataframe tbody tr th:only-of-type {\n",
       "        vertical-align: middle;\n",
       "    }\n",
       "\n",
       "    .dataframe tbody tr th {\n",
       "        vertical-align: top;\n",
       "    }\n",
       "\n",
       "    .dataframe thead th {\n",
       "        text-align: right;\n",
       "    }\n",
       "</style>\n",
       "<table border=\"1\" class=\"dataframe\">\n",
       "  <thead>\n",
       "    <tr style=\"text-align: right;\">\n",
       "      <th></th>\n",
       "      <th>PassengerId</th>\n",
       "      <th>Survived</th>\n",
       "      <th>Pclass</th>\n",
       "      <th>Name</th>\n",
       "      <th>Sex</th>\n",
       "      <th>Age</th>\n",
       "      <th>SibSp</th>\n",
       "      <th>Parch</th>\n",
       "      <th>Ticket</th>\n",
       "      <th>Fare</th>\n",
       "      <th>Cabin</th>\n",
       "      <th>Embarked</th>\n",
       "    </tr>\n",
       "  </thead>\n",
       "  <tbody>\n",
       "    <tr>\n",
       "      <th>0</th>\n",
       "      <td>1</td>\n",
       "      <td>0</td>\n",
       "      <td>3</td>\n",
       "      <td>Braund, Mr. Owen Harris</td>\n",
       "      <td>male</td>\n",
       "      <td>22.0</td>\n",
       "      <td>1</td>\n",
       "      <td>0</td>\n",
       "      <td>A/5 21171</td>\n",
       "      <td>7.2500</td>\n",
       "      <td>NaN</td>\n",
       "      <td>S</td>\n",
       "    </tr>\n",
       "    <tr>\n",
       "      <th>1</th>\n",
       "      <td>2</td>\n",
       "      <td>1</td>\n",
       "      <td>1</td>\n",
       "      <td>Cumings, Mrs. John Bradley (Florence Briggs Th...</td>\n",
       "      <td>female</td>\n",
       "      <td>38.0</td>\n",
       "      <td>1</td>\n",
       "      <td>0</td>\n",
       "      <td>PC 17599</td>\n",
       "      <td>71.2833</td>\n",
       "      <td>C85</td>\n",
       "      <td>C</td>\n",
       "    </tr>\n",
       "    <tr>\n",
       "      <th>2</th>\n",
       "      <td>3</td>\n",
       "      <td>1</td>\n",
       "      <td>3</td>\n",
       "      <td>Heikkinen, Miss. Laina</td>\n",
       "      <td>female</td>\n",
       "      <td>26.0</td>\n",
       "      <td>0</td>\n",
       "      <td>0</td>\n",
       "      <td>STON/O2. 3101282</td>\n",
       "      <td>7.9250</td>\n",
       "      <td>NaN</td>\n",
       "      <td>S</td>\n",
       "    </tr>\n",
       "    <tr>\n",
       "      <th>3</th>\n",
       "      <td>4</td>\n",
       "      <td>1</td>\n",
       "      <td>1</td>\n",
       "      <td>Futrelle, Mrs. Jacques Heath (Lily May Peel)</td>\n",
       "      <td>female</td>\n",
       "      <td>35.0</td>\n",
       "      <td>1</td>\n",
       "      <td>0</td>\n",
       "      <td>113803</td>\n",
       "      <td>53.1000</td>\n",
       "      <td>C123</td>\n",
       "      <td>S</td>\n",
       "    </tr>\n",
       "    <tr>\n",
       "      <th>4</th>\n",
       "      <td>5</td>\n",
       "      <td>0</td>\n",
       "      <td>3</td>\n",
       "      <td>Allen, Mr. William Henry</td>\n",
       "      <td>male</td>\n",
       "      <td>35.0</td>\n",
       "      <td>0</td>\n",
       "      <td>0</td>\n",
       "      <td>373450</td>\n",
       "      <td>8.0500</td>\n",
       "      <td>NaN</td>\n",
       "      <td>S</td>\n",
       "    </tr>\n",
       "    <tr>\n",
       "      <th>...</th>\n",
       "      <td>...</td>\n",
       "      <td>...</td>\n",
       "      <td>...</td>\n",
       "      <td>...</td>\n",
       "      <td>...</td>\n",
       "      <td>...</td>\n",
       "      <td>...</td>\n",
       "      <td>...</td>\n",
       "      <td>...</td>\n",
       "      <td>...</td>\n",
       "      <td>...</td>\n",
       "      <td>...</td>\n",
       "    </tr>\n",
       "    <tr>\n",
       "      <th>886</th>\n",
       "      <td>887</td>\n",
       "      <td>0</td>\n",
       "      <td>2</td>\n",
       "      <td>Montvila, Rev. Juozas</td>\n",
       "      <td>male</td>\n",
       "      <td>27.0</td>\n",
       "      <td>0</td>\n",
       "      <td>0</td>\n",
       "      <td>211536</td>\n",
       "      <td>13.0000</td>\n",
       "      <td>NaN</td>\n",
       "      <td>S</td>\n",
       "    </tr>\n",
       "    <tr>\n",
       "      <th>887</th>\n",
       "      <td>888</td>\n",
       "      <td>1</td>\n",
       "      <td>1</td>\n",
       "      <td>Graham, Miss. Margaret Edith</td>\n",
       "      <td>female</td>\n",
       "      <td>19.0</td>\n",
       "      <td>0</td>\n",
       "      <td>0</td>\n",
       "      <td>112053</td>\n",
       "      <td>30.0000</td>\n",
       "      <td>B42</td>\n",
       "      <td>S</td>\n",
       "    </tr>\n",
       "    <tr>\n",
       "      <th>888</th>\n",
       "      <td>889</td>\n",
       "      <td>0</td>\n",
       "      <td>3</td>\n",
       "      <td>Johnston, Miss. Catherine Helen \"Carrie\"</td>\n",
       "      <td>female</td>\n",
       "      <td>NaN</td>\n",
       "      <td>1</td>\n",
       "      <td>2</td>\n",
       "      <td>W./C. 6607</td>\n",
       "      <td>23.4500</td>\n",
       "      <td>NaN</td>\n",
       "      <td>S</td>\n",
       "    </tr>\n",
       "    <tr>\n",
       "      <th>889</th>\n",
       "      <td>890</td>\n",
       "      <td>1</td>\n",
       "      <td>1</td>\n",
       "      <td>Behr, Mr. Karl Howell</td>\n",
       "      <td>male</td>\n",
       "      <td>26.0</td>\n",
       "      <td>0</td>\n",
       "      <td>0</td>\n",
       "      <td>111369</td>\n",
       "      <td>30.0000</td>\n",
       "      <td>C148</td>\n",
       "      <td>C</td>\n",
       "    </tr>\n",
       "    <tr>\n",
       "      <th>890</th>\n",
       "      <td>891</td>\n",
       "      <td>0</td>\n",
       "      <td>3</td>\n",
       "      <td>Dooley, Mr. Patrick</td>\n",
       "      <td>male</td>\n",
       "      <td>32.0</td>\n",
       "      <td>0</td>\n",
       "      <td>0</td>\n",
       "      <td>370376</td>\n",
       "      <td>7.7500</td>\n",
       "      <td>NaN</td>\n",
       "      <td>Q</td>\n",
       "    </tr>\n",
       "  </tbody>\n",
       "</table>\n",
       "<p>891 rows × 12 columns</p>\n",
       "</div>"
      ],
      "text/plain": [
       "     PassengerId  Survived  Pclass  \\\n",
       "0              1         0       3   \n",
       "1              2         1       1   \n",
       "2              3         1       3   \n",
       "3              4         1       1   \n",
       "4              5         0       3   \n",
       "..           ...       ...     ...   \n",
       "886          887         0       2   \n",
       "887          888         1       1   \n",
       "888          889         0       3   \n",
       "889          890         1       1   \n",
       "890          891         0       3   \n",
       "\n",
       "                                                  Name     Sex   Age  SibSp  \\\n",
       "0                              Braund, Mr. Owen Harris    male  22.0      1   \n",
       "1    Cumings, Mrs. John Bradley (Florence Briggs Th...  female  38.0      1   \n",
       "2                               Heikkinen, Miss. Laina  female  26.0      0   \n",
       "3         Futrelle, Mrs. Jacques Heath (Lily May Peel)  female  35.0      1   \n",
       "4                             Allen, Mr. William Henry    male  35.0      0   \n",
       "..                                                 ...     ...   ...    ...   \n",
       "886                              Montvila, Rev. Juozas    male  27.0      0   \n",
       "887                       Graham, Miss. Margaret Edith  female  19.0      0   \n",
       "888           Johnston, Miss. Catherine Helen \"Carrie\"  female   NaN      1   \n",
       "889                              Behr, Mr. Karl Howell    male  26.0      0   \n",
       "890                                Dooley, Mr. Patrick    male  32.0      0   \n",
       "\n",
       "     Parch            Ticket     Fare Cabin Embarked  \n",
       "0        0         A/5 21171   7.2500   NaN        S  \n",
       "1        0          PC 17599  71.2833   C85        C  \n",
       "2        0  STON/O2. 3101282   7.9250   NaN        S  \n",
       "3        0            113803  53.1000  C123        S  \n",
       "4        0            373450   8.0500   NaN        S  \n",
       "..     ...               ...      ...   ...      ...  \n",
       "886      0            211536  13.0000   NaN        S  \n",
       "887      0            112053  30.0000   B42        S  \n",
       "888      2        W./C. 6607  23.4500   NaN        S  \n",
       "889      0            111369  30.0000  C148        C  \n",
       "890      0            370376   7.7500   NaN        Q  \n",
       "\n",
       "[891 rows x 12 columns]"
      ]
     },
     "execution_count": 223,
     "metadata": {},
     "output_type": "execute_result"
    }
   ],
   "source": [
    "import pandas as pd\n",
    "\n",
    "df = pd.read_csv(\"../train.csv\")\n",
    "df"
   ]
  },
  {
   "cell_type": "code",
   "execution_count": 228,
   "metadata": {},
   "outputs": [
    {
     "data": {
      "text/plain": [
       "'Bonjour my number is [anonymous_number]'"
      ]
     },
     "execution_count": 228,
     "metadata": {},
     "output_type": "execute_result"
    }
   ],
   "source": [
    "import re\n",
    "\n",
    "text = \"Bonjour my number is 0637618981\"\n",
    "\n",
    "re.findall(\".+\", text) # any character at least one time\n",
    "re.findall(\".*\", text) # any character from zero to any time\n",
    "re.findall(\"[0-9]{10}\", text) # 10 numbers\n",
    "\n",
    "re.sub(\"[0-9]{10}\", \"[anonymous_number]\", text) # 10 numbers\n"
   ]
  },
  {
   "cell_type": "code",
   "execution_count": null,
   "metadata": {},
   "outputs": [],
   "source": [
    "https://github.com/komi24/coursBNP13012020"
   ]
  }
 ],
 "metadata": {
  "kernelspec": {
   "display_name": "Python 3",
   "language": "python",
   "name": "python3"
  },
  "language_info": {
   "codemirror_mode": {
    "name": "ipython",
    "version": 3
   },
   "file_extension": ".py",
   "mimetype": "text/x-python",
   "name": "python",
   "nbconvert_exporter": "python",
   "pygments_lexer": "ipython3",
   "version": "3.7.3"
  }
 },
 "nbformat": 4,
 "nbformat_minor": 2
}
